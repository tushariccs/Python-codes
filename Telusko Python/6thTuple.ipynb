{
 "cells": [
  {
   "cell_type": "code",
   "execution_count": 4,
   "metadata": {},
   "outputs": [
    {
     "name": "stdout",
     "output_type": "stream",
     "text": [
      "(1, 2, 3, 4, 5, 6)\n"
     ]
    }
   ],
   "source": [
    "#Tuple\n",
    "tuple1 = (1,2,3,4,5,6)\n",
    "print(tuple1)"
   ]
  },
  {
   "cell_type": "code",
   "execution_count": 3,
   "metadata": {},
   "outputs": [
    {
     "name": "stdout",
     "output_type": "stream",
     "text": [
      "1\n"
     ]
    }
   ],
   "source": [
    "a = tuple1[0]\n",
    "print(a)"
   ]
  },
  {
   "cell_type": "code",
   "execution_count": 9,
   "metadata": {},
   "outputs": [
    {
     "name": "stdout",
     "output_type": "stream",
     "text": [
      "Tushar\n",
      "22\n",
      "Bhansali\n",
      "2\n"
     ]
    }
   ],
   "source": [
    "#We can assign multiple values to variable using tuples\n",
    "name,age,country = (\"Tushar\",22,\"Bhansali\")\n",
    "print(name)\n",
    "print(age)\n",
    "print(country)\n",
    "\n",
    "# marks1,marks2,marks3 = input(\"Enter the three subject\")\n",
    "# print(marks1)\n",
    "# print(marks2)\n",
    "# print(marks3)\n",
    "\n",
    "#We count the number in the tuple\n",
    "list2 = (50,50,60,70,80)\n",
    "print(list2.count(50))"
   ]
  },
  {
   "cell_type": "code",
   "execution_count": 2,
   "metadata": {},
   "outputs": [
    {
     "name": "stdout",
     "output_type": "stream",
     "text": [
      "<class 'tuple'>\n"
     ]
    }
   ],
   "source": [
    "b = tuple([5,8,10,93,1,50])\n",
    "print(type(b))"
   ]
  },
  {
   "cell_type": "code",
   "execution_count": 14,
   "metadata": {},
   "outputs": [
    {
     "name": "stdout",
     "output_type": "stream",
     "text": [
      "<class 'int'>\n",
      "<class 'tuple'>\n"
     ]
    }
   ],
   "source": [
    "a = (1)\n",
    "#it behaves like a variable assigned a value\n",
    "print(type(a))\n",
    "#but if we add ,\n",
    "a = (1,)\n",
    "print(type(a))"
   ]
  },
  {
   "cell_type": "code",
   "execution_count": 6,
   "metadata": {},
   "outputs": [
    {
     "name": "stdout",
     "output_type": "stream",
     "text": [
      "Number is present\n",
      "6\n"
     ]
    }
   ],
   "source": [
    "#using in keyword \n",
    "if 8 in b:\n",
    "    print( \"Number is present\")\n",
    "else:\n",
    "    print(\"Number is not present\")\n",
    "print(len(tuple1))"
   ]
  },
  {
   "cell_type": "code",
   "execution_count": 12,
   "metadata": {},
   "outputs": [
    {
     "name": "stdout",
     "output_type": "stream",
     "text": [
      "<class 'tuple'>\n",
      "1\n",
      "7\n",
      "(3, 4, 5)\n",
      "(1, 2, 3, 4)\n",
      "(3, 4, 5, 6, 7)\n"
     ]
    }
   ],
   "source": [
    "new_tuple = tuple((1,2,3,4,5,6,7))\n",
    "print(type(new_tuple))\n",
    "\n",
    "#Positive indexing\n",
    "print(new_tuple[0])\n",
    "#negative indexing\n",
    "print(new_tuple[-1])\n",
    "print(new_tuple[2:5])\n",
    "print(new_tuple[:4])\n",
    "print(new_tuple[2:])\n"
   ]
  }
 ],
 "metadata": {
  "kernelspec": {
   "display_name": "Python 3",
   "language": "python",
   "name": "python3"
  },
  "language_info": {
   "codemirror_mode": {
    "name": "ipython",
    "version": 3
   },
   "file_extension": ".py",
   "mimetype": "text/x-python",
   "name": "python",
   "nbconvert_exporter": "python",
   "pygments_lexer": "ipython3",
   "version": "3.11.0"
  },
  "orig_nbformat": 4,
  "vscode": {
   "interpreter": {
    "hash": "e450050b432e843bda3c41bf3272c133bfc370a7003f3e377e27f87a49ce1127"
   }
  }
 },
 "nbformat": 4,
 "nbformat_minor": 2
}
